{
  "nbformat": 4,
  "nbformat_minor": 0,
  "metadata": {
    "colab": {
      "name": "ExploreLunoAPI.ipynb",
      "provenance": [],
      "collapsed_sections": [],
      "mount_file_id": "1Nhz8T8OIwNGZrrxvL29o8Gq5hJxxMq6v",
      "authorship_tag": "ABX9TyO9v5tju68bU27Bvb/veJJ7",
      "include_colab_link": true
    },
    "kernelspec": {
      "name": "python3",
      "display_name": "Python 3"
    }
  },
  "cells": [
    {
      "cell_type": "markdown",
      "metadata": {
        "id": "view-in-github",
        "colab_type": "text"
      },
      "source": [
        "<a href=\"https://colab.research.google.com/github/KramPiotr/Classical-Piano-Composer/blob/master/ExploreLunoAPI.ipynb\" target=\"_parent\"><img src=\"https://colab.research.google.com/assets/colab-badge.svg\" alt=\"Open In Colab\"/></a>"
      ]
    },
    {
      "cell_type": "code",
      "metadata": {
        "id": "YogE6q-MrrCq",
        "colab_type": "code",
        "colab": {
          "base_uri": "https://localhost:8080/",
          "height": 54
        },
        "outputId": "187a86d2-beaa-47dd-ba88-ac703767d5e8"
      },
      "source": [
        "from google.colab import drive\n",
        "drive.mount('/content/drive')"
      ],
      "execution_count": 1,
      "outputs": [
        {
          "output_type": "stream",
          "text": [
            "Drive already mounted at /content/drive; to attempt to forcibly remount, call drive.mount(\"/content/drive\", force_remount=True).\n"
          ],
          "name": "stdout"
        }
      ]
    },
    {
      "cell_type": "code",
      "metadata": {
        "id": "6rrNRjEDow0W",
        "colab_type": "code",
        "colab": {}
      },
      "source": [
        "import os\n",
        "import time"
      ],
      "execution_count": 2,
      "outputs": []
    },
    {
      "cell_type": "code",
      "metadata": {
        "id": "Gw_67-P9rStK",
        "colab_type": "code",
        "colab": {}
      },
      "source": [
        "key_id = open('drive/My Drive/Luno Trading Bot/LUNO_API_KEY_ID.txt', 'r', encoding='utf-8-sig')\n",
        "key_secret = open('drive/My Drive/Luno Trading Bot/LUNO_API_KEY_SECRET.txt', 'r', encoding='utf-8-sig')"
      ],
      "execution_count": 15,
      "outputs": []
    },
    {
      "cell_type": "code",
      "metadata": {
        "id": "Yy023PXF908Z",
        "colab_type": "code",
        "colab": {
          "base_uri": "https://localhost:8080/",
          "height": 289
        },
        "outputId": "a896d564-406c-4e8b-a8a3-895eae480dee"
      },
      "source": [
        "!pip install luno_python"
      ],
      "execution_count": 17,
      "outputs": [
        {
          "output_type": "stream",
          "text": [
            "Collecting luno_python\n",
            "  Downloading https://files.pythonhosted.org/packages/ca/58/5d691905d556b94cbd11cba68a8e13f7dea150ed93e5cf659d4f9d8446ff/luno-python-0.0.4.tar.gz\n",
            "Requirement already satisfied: requests>=2.18.4 in /usr/local/lib/python3.6/dist-packages (from luno_python) (2.23.0)\n",
            "Requirement already satisfied: six>=1.11.0 in /usr/local/lib/python3.6/dist-packages (from luno_python) (1.12.0)\n",
            "Requirement already satisfied: idna<3,>=2.5 in /usr/local/lib/python3.6/dist-packages (from requests>=2.18.4->luno_python) (2.9)\n",
            "Requirement already satisfied: chardet<4,>=3.0.2 in /usr/local/lib/python3.6/dist-packages (from requests>=2.18.4->luno_python) (3.0.4)\n",
            "Requirement already satisfied: urllib3!=1.25.0,!=1.25.1,<1.26,>=1.21.1 in /usr/local/lib/python3.6/dist-packages (from requests>=2.18.4->luno_python) (1.24.3)\n",
            "Requirement already satisfied: certifi>=2017.4.17 in /usr/local/lib/python3.6/dist-packages (from requests>=2.18.4->luno_python) (2020.4.5.2)\n",
            "Building wheels for collected packages: luno-python\n",
            "  Building wheel for luno-python (setup.py) ... \u001b[?25l\u001b[?25hdone\n",
            "  Created wheel for luno-python: filename=luno_python-0.0.4-cp36-none-any.whl size=8264 sha256=3b5a7c13e41ba5756313e33d6e479266e493037ef337e6e2e637b081b53e6ac5\n",
            "  Stored in directory: /root/.cache/pip/wheels/46/e0/33/38c48204737c29943a9e7a195109a7471a1e16b786b595f5ea\n",
            "Successfully built luno-python\n",
            "Installing collected packages: luno-python\n",
            "Successfully installed luno-python-0.0.4\n"
          ],
          "name": "stdout"
        }
      ]
    },
    {
      "cell_type": "code",
      "metadata": {
        "id": "hk_TenwP944D",
        "colab_type": "code",
        "colab": {}
      },
      "source": [
        "from luno_python.client import Client"
      ],
      "execution_count": 18,
      "outputs": []
    },
    {
      "cell_type": "code",
      "metadata": {
        "id": "V6c6LhG9zqJ-",
        "colab_type": "code",
        "colab": {}
      },
      "source": [
        "c = Client(api_key_id=key_id.read(), api_key_secret=key_secret.read())"
      ],
      "execution_count": 19,
      "outputs": []
    },
    {
      "cell_type": "code",
      "metadata": {
        "id": "bW7kCZJnqeH3",
        "colab_type": "code",
        "colab": {
          "base_uri": "https://localhost:8080/",
          "height": 1000
        },
        "outputId": "2a1da168-b3db-4946-e1fd-1632bd43b5fe"
      },
      "source": [
        "c.get_tickers()"
      ],
      "execution_count": 20,
      "outputs": [
        {
          "output_type": "execute_result",
          "data": {
            "text/plain": [
              "{'tickers': [{'ask': '1021.00',\n",
              "   'bid': '1007.00',\n",
              "   'last_trade': '1007.00',\n",
              "   'pair': 'ETHMYR',\n",
              "   'rolling_24_hour_volume': '182.75',\n",
              "   'status': 'ACTIVE',\n",
              "   'timestamp': 1593046477489},\n",
              "  {'ask': '13399.99',\n",
              "   'bid': '13000.00',\n",
              "   'last_trade': '13000.00',\n",
              "   'pair': 'XBTSGD',\n",
              "   'rolling_24_hour_volume': '1.6845',\n",
              "   'status': 'ACTIVE',\n",
              "   'timestamp': 1593046477489},\n",
              "  {'ask': '171101.00',\n",
              "   'bid': '171100.00',\n",
              "   'last_trade': '171100.00',\n",
              "   'pair': 'XBTZAR',\n",
              "   'rolling_24_hour_volume': '520.983827',\n",
              "   'status': 'ACTIVE',\n",
              "   'timestamp': 1593046477489},\n",
              "  {'ask': '179620.00',\n",
              "   'bid': '179619.00',\n",
              "   'last_trade': '183660.00',\n",
              "   'pair': 'XBTZMW',\n",
              "   'rolling_24_hour_volume': '0.001569',\n",
              "   'status': 'ACTIVE',\n",
              "   'timestamp': 1593046477489},\n",
              "  {'ask': '4148000.00',\n",
              "   'bid': '4147999.00',\n",
              "   'last_trade': '4148000.00',\n",
              "   'pair': 'XBTNGN',\n",
              "   'rolling_24_hour_volume': '167.773469',\n",
              "   'status': 'ACTIVE',\n",
              "   'timestamp': 1593046477489},\n",
              "  {'ask': '34645000.00',\n",
              "   'bid': '34632000.00',\n",
              "   'last_trade': '34777000.00',\n",
              "   'pair': 'XBTUGX',\n",
              "   'rolling_24_hour_volume': '0.118866',\n",
              "   'status': 'ACTIVE',\n",
              "   'timestamp': 1593046477489},\n",
              "  {'ask': '83.60',\n",
              "   'bid': '82.21',\n",
              "   'last_trade': '82.21',\n",
              "   'pair': 'XRPNGN',\n",
              "   'rolling_24_hour_volume': '45040.00',\n",
              "   'status': 'ACTIVE',\n",
              "   'timestamp': 1593046477489},\n",
              "  {'ask': '0.00001979',\n",
              "   'bid': '0.00001972',\n",
              "   'last_trade': '0.00001979',\n",
              "   'pair': 'XRPXBT',\n",
              "   'rolling_24_hour_volume': '39774.00',\n",
              "   'status': 'ACTIVE',\n",
              "   'timestamp': 1593046477489},\n",
              "  {'ask': '3.38',\n",
              "   'bid': '3.37',\n",
              "   'last_trade': '3.36',\n",
              "   'pair': 'XRPZAR',\n",
              "   'rolling_24_hour_volume': '109267.00',\n",
              "   'status': 'ACTIVE',\n",
              "   'timestamp': 1593046477489},\n",
              "  {'ask': '7464.26',\n",
              "   'bid': '7400.00',\n",
              "   'last_trade': '7466.62',\n",
              "   'pair': 'XBTGBP',\n",
              "   'rolling_24_hour_volume': '3.3722',\n",
              "   'status': 'ACTIVE',\n",
              "   'timestamp': 1593046477489},\n",
              "  {'ask': '4328.00',\n",
              "   'bid': '4297.00',\n",
              "   'last_trade': '4297.00',\n",
              "   'pair': 'ETHZAR',\n",
              "   'rolling_24_hour_volume': '654.127511',\n",
              "   'status': 'ACTIVE',\n",
              "   'timestamp': 1593046477489},\n",
              "  {'ask': '0.0253',\n",
              "   'bid': '0.0252',\n",
              "   'last_trade': '0.0252',\n",
              "   'pair': 'ETHXBT',\n",
              "   'rolling_24_hour_volume': '751.45',\n",
              "   'status': 'ACTIVE',\n",
              "   'timestamp': 1593046477489},\n",
              "  {'ask': '133801000.00',\n",
              "   'bid': '133800000.00',\n",
              "   'last_trade': '133951000.00',\n",
              "   'pair': 'XBTIDR',\n",
              "   'rolling_24_hour_volume': '10.22616',\n",
              "   'status': 'ACTIVE',\n",
              "   'timestamp': 1593046477489},\n",
              "  {'ask': '0.0251',\n",
              "   'bid': '0.025',\n",
              "   'last_trade': '0.025',\n",
              "   'pair': 'BCHXBT',\n",
              "   'rolling_24_hour_volume': '44.33',\n",
              "   'status': 'ACTIVE',\n",
              "   'timestamp': 1593046477489},\n",
              "  {'ask': '40178.00',\n",
              "   'bid': '40098.00',\n",
              "   'last_trade': '40098.00',\n",
              "   'pair': 'XBTMYR',\n",
              "   'rolling_24_hour_volume': '41.982474',\n",
              "   'status': 'ACTIVE',\n",
              "   'timestamp': 1593046477489},\n",
              "  {'ask': '0.80',\n",
              "   'bid': '0.79',\n",
              "   'last_trade': '0.80',\n",
              "   'pair': 'XRPMYR',\n",
              "   'rolling_24_hour_volume': '130501.00',\n",
              "   'status': 'ACTIVE',\n",
              "   'timestamp': 1593046477489},\n",
              "  {'ask': '8245.10',\n",
              "   'bid': '8225.46',\n",
              "   'last_trade': '8244.63',\n",
              "   'pair': 'XBTEUR',\n",
              "   'rolling_24_hour_volume': '31.2349',\n",
              "   'status': 'ACTIVE',\n",
              "   'timestamp': 1593046477489},\n",
              "  {'ask': '105996.00',\n",
              "   'bid': '105500.00',\n",
              "   'last_trade': '105500.00',\n",
              "   'pair': 'ETHNGN',\n",
              "   'rolling_24_hour_volume': '222.299821',\n",
              "   'status': 'ACTIVE',\n",
              "   'timestamp': 1593046477489},\n",
              "  {'ask': '0.004605',\n",
              "   'bid': '0.004581',\n",
              "   'last_trade': '0.004581',\n",
              "   'pair': 'LTCXBT',\n",
              "   'rolling_24_hour_volume': '158.05',\n",
              "   'status': 'ACTIVE',\n",
              "   'timestamp': 1593046477489}]}"
            ]
          },
          "metadata": {
            "tags": []
          },
          "execution_count": 20
        }
      ]
    },
    {
      "cell_type": "code",
      "metadata": {
        "id": "f2CnuIne-CcI",
        "colab_type": "code",
        "colab": {
          "base_uri": "https://localhost:8080/",
          "height": 134
        },
        "outputId": "3deee22f-7558-426a-9efb-e6219021785d"
      },
      "source": [
        "c.get_ticker(pair='XBTZAR')"
      ],
      "execution_count": 22,
      "outputs": [
        {
          "output_type": "execute_result",
          "data": {
            "text/plain": [
              "{'ask': '171101.00',\n",
              " 'bid': '171100.00',\n",
              " 'last_trade': '171101.00',\n",
              " 'pair': 'XBTZAR',\n",
              " 'rolling_24_hour_volume': '520.370973',\n",
              " 'status': 'ACTIVE',\n",
              " 'timestamp': 1593046929249}"
            ]
          },
          "metadata": {
            "tags": []
          },
          "execution_count": 22
        }
      ]
    },
    {
      "cell_type": "code",
      "metadata": {
        "id": "ENTSRGvR_tdk",
        "colab_type": "code",
        "colab": {
          "base_uri": "https://localhost:8080/",
          "height": 1000
        },
        "outputId": "32a93c7b-d6b4-44f0-8432-e3c4c3e94438"
      },
      "source": [
        "c.get_order_book(pair='XBTZAR')"
      ],
      "execution_count": 24,
      "outputs": [
        {
          "output_type": "execute_result",
          "data": {
            "text/plain": [
              "{'asks': [{'price': '171101.00', 'volume': '3.24365'},\n",
              "  {'price': '171134.00', 'volume': '0.064785'},\n",
              "  {'price': '171190.00', 'volume': '0.958425'},\n",
              "  {'price': '171227.00', 'volume': '0.018156'},\n",
              "  {'price': '171273.00', 'volume': '0.279982'},\n",
              "  {'price': '171300.00', 'volume': '0.0414'},\n",
              "  {'price': '171301.00', 'volume': '0.303314'},\n",
              "  {'price': '171310.00', 'volume': '0.35581'},\n",
              "  {'price': '171356.00', 'volume': '0.273419'},\n",
              "  {'price': '171393.00', 'volume': '0.279982'},\n",
              "  {'price': '171441.00', 'volume': '3.480921'},\n",
              "  {'price': '171442.00', 'volume': '0.000556'},\n",
              "  {'price': '171514.00', 'volume': '0.15187'},\n",
              "  {'price': '171563.00', 'volume': '0.023972'},\n",
              "  {'price': '171600.00', 'volume': '0.000753'},\n",
              "  {'price': '171700.00', 'volume': '0.000803'},\n",
              "  {'price': '171800.00', 'volume': '0.00426'},\n",
              "  {'price': '171840.00', 'volume': '0.0005'},\n",
              "  {'price': '171880.00', 'volume': '0.0155'},\n",
              "  {'price': '171900.00', 'volume': '0.10'},\n",
              "  {'price': '171990.00', 'volume': '0.58681'},\n",
              "  {'price': '172000.00', 'volume': '0.078273'},\n",
              "  {'price': '172076.00', 'volume': '0.0005'},\n",
              "  {'price': '172133.00', 'volume': '0.003032'},\n",
              "  {'price': '172200.00', 'volume': '0.003003'},\n",
              "  {'price': '172205.00', 'volume': '0.0005'},\n",
              "  {'price': '172206.00', 'volume': '0.046734'},\n",
              "  {'price': '172299.00', 'volume': '0.017112'},\n",
              "  {'price': '172400.00', 'volume': '1.518888'},\n",
              "  {'price': '172444.00', 'volume': '0.005859'},\n",
              "  {'price': '172500.00', 'volume': '0.033025'},\n",
              "  {'price': '172571.00', 'volume': '0.0005'},\n",
              "  {'price': '172611.00', 'volume': '6.4721'},\n",
              "  {'price': '172710.00', 'volume': '0.0117'},\n",
              "  {'price': '172780.00', 'volume': '0.0005'},\n",
              "  {'price': '172790.00', 'volume': '1.472035'},\n",
              "  {'price': '172876.00', 'volume': '0.035045'},\n",
              "  {'price': '172900.00', 'volume': '0.20'},\n",
              "  {'price': '172908.00', 'volume': '0.10'},\n",
              "  {'price': '172939.00', 'volume': '0.0005'},\n",
              "  {'price': '172997.00', 'volume': '0.007228'},\n",
              "  {'price': '172998.00', 'volume': '0.0062'},\n",
              "  {'price': '172999.00', 'volume': '0.916863'},\n",
              "  {'price': '173000.00', 'volume': '1.311328'},\n",
              "  {'price': '173018.00', 'volume': '0.0005'},\n",
              "  {'price': '173126.00', 'volume': '0.006217'},\n",
              "  {'price': '173200.00', 'volume': '0.014692'},\n",
              "  {'price': '173251.00', 'volume': '0.0505'},\n",
              "  {'price': '173253.00', 'volume': '0.024072'},\n",
              "  {'price': '173260.00', 'volume': '0.0005'},\n",
              "  {'price': '173300.00', 'volume': '0.0416'},\n",
              "  {'price': '173317.00', 'volume': '0.282304'},\n",
              "  {'price': '173450.00', 'volume': '0.75289'},\n",
              "  {'price': '173500.00', 'volume': '0.146359'},\n",
              "  {'price': '173556.00', 'volume': '0.0006'},\n",
              "  {'price': '173559.00', 'volume': '0.0006'},\n",
              "  {'price': '173635.00', 'volume': '0.001'},\n",
              "  {'price': '173750.00', 'volume': '0.07459'},\n",
              "  {'price': '173825.00', 'volume': '0.02'},\n",
              "  {'price': '173888.00', 'volume': '0.005202'},\n",
              "  {'price': '173900.00', 'volume': '0.40'},\n",
              "  {'price': '173920.00', 'volume': '0.0005'},\n",
              "  {'price': '173947.00', 'volume': '0.11927'},\n",
              "  {'price': '173999.00', 'volume': '2.606426'},\n",
              "  {'price': '174000.00', 'volume': '2.605286'},\n",
              "  {'price': '174019.00', 'volume': '0.0005'},\n",
              "  {'price': '174200.00', 'volume': '0.01172'},\n",
              "  {'price': '174241.00', 'volume': '0.00977'},\n",
              "  {'price': '174250.00', 'volume': '0.016695'},\n",
              "  {'price': '174299.00', 'volume': '0.87391'},\n",
              "  {'price': '174300.00', 'volume': '0.01171'},\n",
              "  {'price': '174365.00', 'volume': '0.0005'},\n",
              "  {'price': '174399.00', 'volume': '0.02354'},\n",
              "  {'price': '174405.00', 'volume': '0.0005'},\n",
              "  {'price': '174490.00', 'volume': '0.10'},\n",
              "  {'price': '174499.00', 'volume': '0.1258'},\n",
              "  {'price': '174500.00', 'volume': '1.973683'},\n",
              "  {'price': '174506.00', 'volume': '0.000509'},\n",
              "  {'price': '174531.00', 'volume': '0.002'},\n",
              "  {'price': '174620.00', 'volume': '0.005784'},\n",
              "  {'price': '174632.00', 'volume': '0.0005'},\n",
              "  {'price': '174640.00', 'volume': '0.005'},\n",
              "  {'price': '174654.00', 'volume': '0.10'},\n",
              "  {'price': '174699.00', 'volume': '0.012498'},\n",
              "  {'price': '174700.00', 'volume': '0.14218'},\n",
              "  {'price': '174751.00', 'volume': '0.10'},\n",
              "  {'price': '174769.00', 'volume': '0.014879'},\n",
              "  {'price': '174793.00', 'volume': '0.0005'},\n",
              "  {'price': '174888.00', 'volume': '0.00372'},\n",
              "  {'price': '174890.00', 'volume': '0.0005'},\n",
              "  {'price': '174900.00', 'volume': '0.154816'},\n",
              "  {'price': '174939.00', 'volume': '0.01'},\n",
              "  {'price': '174990.00', 'volume': '0.233891'},\n",
              "  {'price': '174998.00', 'volume': '0.002'},\n",
              "  {'price': '174999.00', 'volume': '2.379361'},\n",
              "  {'price': '175000.00', 'volume': '2.547166'},\n",
              "  {'price': '175002.00', 'volume': '0.052091'},\n",
              "  {'price': '175100.00', 'volume': '0.060834'},\n",
              "  {'price': '175105.00', 'volume': '0.0005'},\n",
              "  {'price': '175171.00', 'volume': '0.0005'}],\n",
              " 'bids': [{'price': '171100.00', 'volume': '3.589224'},\n",
              "  {'price': '171042.00', 'volume': '0.507578'},\n",
              "  {'price': '171037.00', 'volume': '0.257953'},\n",
              "  {'price': '171014.00', 'volume': '0.15171'},\n",
              "  {'price': '171006.00', 'volume': '0.01697'},\n",
              "  {'price': '171001.00', 'volume': '0.03'},\n",
              "  {'price': '171000.00', 'volume': '4.749963'},\n",
              "  {'price': '170999.00', 'volume': '0.014144'},\n",
              "  {'price': '170958.00', 'volume': '0.635948'},\n",
              "  {'price': '170948.00', 'volume': '0.092014'},\n",
              "  {'price': '170930.00', 'volume': '0.151657'},\n",
              "  {'price': '170900.00', 'volume': '0.073218'},\n",
              "  {'price': '170875.00', 'volume': '0.735063'},\n",
              "  {'price': '170847.00', 'volume': '0.379675'},\n",
              "  {'price': '170835.00', 'volume': '0.00205'},\n",
              "  {'price': '170825.00', 'volume': '0.2533'},\n",
              "  {'price': '170801.00', 'volume': '0.280538'},\n",
              "  {'price': '170800.00', 'volume': '0.003183'},\n",
              "  {'price': '170764.00', 'volume': '0.1255'},\n",
              "  {'price': '170750.00', 'volume': '0.18134'},\n",
              "  {'price': '170728.00', 'volume': '0.04974'},\n",
              "  {'price': '170727.00', 'volume': '0.346391'},\n",
              "  {'price': '170718.00', 'volume': '0.151958'},\n",
              "  {'price': '170701.00', 'volume': '0.005082'},\n",
              "  {'price': '170700.00', 'volume': '0.002'},\n",
              "  {'price': '170666.00', 'volume': '0.02'},\n",
              "  {'price': '170650.00', 'volume': '1.00'},\n",
              "  {'price': '170644.00', 'volume': '0.272419'},\n",
              "  {'price': '170606.00', 'volume': '0.273818'},\n",
              "  {'price': '170600.00', 'volume': '1.032'},\n",
              "  {'price': '170599.00', 'volume': '0.005895'},\n",
              "  {'price': '170580.00', 'volume': '0.0255'},\n",
              "  {'price': '170560.00', 'volume': '0.05482'},\n",
              "  {'price': '170559.00', 'volume': '0.0022'},\n",
              "  {'price': '170550.00', 'volume': '0.408637'},\n",
              "  {'price': '170540.00', 'volume': '0.003015'},\n",
              "  {'price': '170537.00', 'volume': '0.015442'},\n",
              "  {'price': '170525.00', 'volume': '0.00322'},\n",
              "  {'price': '170509.00', 'volume': '0.0047'},\n",
              "  {'price': '170501.00', 'volume': '0.0553'},\n",
              "  {'price': '170500.00', 'volume': '1.880808'},\n",
              "  {'price': '170450.00', 'volume': '0.0005'},\n",
              "  {'price': '170409.00', 'volume': '0.000959'},\n",
              "  {'price': '170405.00', 'volume': '0.021801'},\n",
              "  {'price': '170400.00', 'volume': '0.07253'},\n",
              "  {'price': '170339.00', 'volume': '0.0122'},\n",
              "  {'price': '170338.00', 'volume': '0.00082'},\n",
              "  {'price': '170308.00', 'volume': '0.00257'},\n",
              "  {'price': '170267.00', 'volume': '0.0007'},\n",
              "  {'price': '170240.00', 'volume': '0.055'},\n",
              "  {'price': '170201.00', 'volume': '0.20'},\n",
              "  {'price': '170200.00', 'volume': '0.018704'},\n",
              "  {'price': '170190.00', 'volume': '0.004094'},\n",
              "  {'price': '170185.00', 'volume': '0.50'},\n",
              "  {'price': '170144.00', 'volume': '0.369108'},\n",
              "  {'price': '170125.00', 'volume': '0.0022'},\n",
              "  {'price': '170123.00', 'volume': '0.030299'},\n",
              "  {'price': '170115.00', 'volume': '0.002351'},\n",
              "  {'price': '170100.00', 'volume': '1.075986'},\n",
              "  {'price': '170061.00', 'volume': '0.022452'},\n",
              "  {'price': '170051.00', 'volume': '0.40'},\n",
              "  {'price': '170005.00', 'volume': '0.217028'},\n",
              "  {'price': '170004.00', 'volume': '0.01614'},\n",
              "  {'price': '170003.00', 'volume': '0.0213'},\n",
              "  {'price': '170001.00', 'volume': '0.134127'},\n",
              "  {'price': '170000.00', 'volume': '7.396723'},\n",
              "  {'price': '169999.00', 'volume': '0.068394'},\n",
              "  {'price': '169950.00', 'volume': '0.0005'},\n",
              "  {'price': '169900.00', 'volume': '1.024783'},\n",
              "  {'price': '169898.00', 'volume': '0.016'},\n",
              "  {'price': '169890.00', 'volume': '0.002366'},\n",
              "  {'price': '169876.00', 'volume': '0.004223'},\n",
              "  {'price': '169800.00', 'volume': '0.002178'},\n",
              "  {'price': '169786.00', 'volume': '0.01563'},\n",
              "  {'price': '169658.00', 'volume': '0.00121'},\n",
              "  {'price': '169601.00', 'volume': '0.0005'},\n",
              "  {'price': '169580.00', 'volume': '0.01'},\n",
              "  {'price': '169501.00', 'volume': '0.21'},\n",
              "  {'price': '169500.00', 'volume': '0.278914'},\n",
              "  {'price': '169484.00', 'volume': '0.10'},\n",
              "  {'price': '169333.00', 'volume': '0.006'},\n",
              "  {'price': '169301.00', 'volume': '0.002051'},\n",
              "  {'price': '169300.00', 'volume': '0.02169'},\n",
              "  {'price': '169289.00', 'volume': '0.065633'},\n",
              "  {'price': '169284.00', 'volume': '0.02'},\n",
              "  {'price': '169250.00', 'volume': '0.02'},\n",
              "  {'price': '169241.00', 'volume': '0.038089'},\n",
              "  {'price': '169230.00', 'volume': '0.003309'},\n",
              "  {'price': '169221.00', 'volume': '0.034359'},\n",
              "  {'price': '169201.00', 'volume': '0.219'},\n",
              "  {'price': '169200.00', 'volume': '0.01169'},\n",
              "  {'price': '169140.00', 'volume': '0.029298'},\n",
              "  {'price': '169115.00', 'volume': '0.002365'},\n",
              "  {'price': '169100.00', 'volume': '1.697977'},\n",
              "  {'price': '169090.00', 'volume': '0.005915'},\n",
              "  {'price': '169003.00', 'volume': '0.011179'},\n",
              "  {'price': '169001.00', 'volume': '0.118308'},\n",
              "  {'price': '169000.00', 'volume': '7.131629'},\n",
              "  {'price': '168999.00', 'volume': '0.249584'},\n",
              "  {'price': '168990.00', 'volume': '0.00342'}],\n",
              " 'timestamp': 1593047073305}"
            ]
          },
          "metadata": {
            "tags": []
          },
          "execution_count": 24
        }
      ]
    },
    {
      "cell_type": "code",
      "metadata": {
        "id": "Nal1OreuAYWh",
        "colab_type": "code",
        "colab": {}
      },
      "source": [
        "yesterday = int(time.time()*1000)-24*60*60*1000\n",
        "res = c.list_trades(pair='XBTZAR', since=yesterday)"
      ],
      "execution_count": 27,
      "outputs": []
    },
    {
      "cell_type": "code",
      "metadata": {
        "id": "wVltr-k2Az0p",
        "colab_type": "code",
        "colab": {
          "base_uri": "https://localhost:8080/",
          "height": 34
        },
        "outputId": "3b227f62-8ba3-4910-9920-35ec4fd3ee86"
      },
      "source": [
        "len(res['trades'])"
      ],
      "execution_count": 42,
      "outputs": [
        {
          "output_type": "execute_result",
          "data": {
            "text/plain": [
              "100"
            ]
          },
          "metadata": {
            "tags": []
          },
          "execution_count": 42
        }
      ]
    },
    {
      "cell_type": "code",
      "metadata": {
        "id": "3p74QE01A7f3",
        "colab_type": "code",
        "colab": {
          "base_uri": "https://localhost:8080/",
          "height": 101
        },
        "outputId": "d295dde8-e77a-4c46-e51b-845ed16bc8de"
      },
      "source": [
        "res['trades'][0]"
      ],
      "execution_count": 43,
      "outputs": [
        {
          "output_type": "execute_result",
          "data": {
            "text/plain": [
              "{'is_buy': False,\n",
              " 'price': '171100.00',\n",
              " 'sequence': 8418556,\n",
              " 'timestamp': 1593047436895,\n",
              " 'volume': '0.02994'}"
            ]
          },
          "metadata": {
            "tags": []
          },
          "execution_count": 43
        }
      ]
    },
    {
      "cell_type": "code",
      "metadata": {
        "id": "q8zNMviVBaLA",
        "colab_type": "code",
        "colab": {}
      },
      "source": [
        "res = c.list_trades(pair='XBTZAR')"
      ],
      "execution_count": 41,
      "outputs": []
    },
    {
      "cell_type": "code",
      "metadata": {
        "id": "3GgnQuvD_6WB",
        "colab_type": "code",
        "colab": {}
      },
      "source": [
        "res = c.get_balances()"
      ],
      "execution_count": 44,
      "outputs": []
    },
    {
      "cell_type": "code",
      "metadata": {
        "id": "5URXP7RWCJi_",
        "colab_type": "code",
        "colab": {
          "base_uri": "https://localhost:8080/",
          "height": 185
        },
        "outputId": "afa88315-9082-4031-e223-e1c22e07ac5a"
      },
      "source": [
        "res"
      ],
      "execution_count": 46,
      "outputs": [
        {
          "output_type": "execute_result",
          "data": {
            "text/plain": [
              "{'balance': [{'account_id': '8908565368817758242',\n",
              "   'asset': 'XBT',\n",
              "   'balance': '0.00133594',\n",
              "   'reserved': '0.00',\n",
              "   'unconfirmed': '0.00'},\n",
              "  {'account_id': '1729917142846470782',\n",
              "   'asset': 'EUR',\n",
              "   'balance': '0.00',\n",
              "   'reserved': '0.00',\n",
              "   'unconfirmed': '0.00'}]}"
            ]
          },
          "metadata": {
            "tags": []
          },
          "execution_count": 46
        }
      ]
    },
    {
      "cell_type": "code",
      "metadata": {
        "id": "KD8zqDKrBgHv",
        "colab_type": "code",
        "colab": {
          "base_uri": "https://localhost:8080/",
          "height": 34
        },
        "outputId": "30818483-d6a4-4855-ce9e-e4ccbf4e256b"
      },
      "source": [
        "aid = res['balance'][0]['account_id']\n",
        "aid"
      ],
      "execution_count": 48,
      "outputs": [
        {
          "output_type": "execute_result",
          "data": {
            "text/plain": [
              "'8908565368817758242'"
            ]
          },
          "metadata": {
            "tags": []
          },
          "execution_count": 48
        }
      ]
    },
    {
      "cell_type": "code",
      "metadata": {
        "id": "aolHHBYqCIGA",
        "colab_type": "code",
        "colab": {
          "base_uri": "https://localhost:8080/",
          "height": 255
        },
        "outputId": "d46a31f6-a89f-4a36-b8b0-9b079e829817"
      },
      "source": [
        "c.list_transactions(id=aid, min_row=1, max_row=10)"
      ],
      "execution_count": 49,
      "outputs": [
        {
          "output_type": "execute_result",
          "data": {
            "text/plain": [
              "{'id': '8908565368817758242',\n",
              " 'transactions': [{'account_id': '8908565368817758242',\n",
              "   'available': 0.00133594,\n",
              "   'available_delta': 0.00133594,\n",
              "   'balance': 0.00133594,\n",
              "   'balance_delta': 0.00133594,\n",
              "   'currency': 'XBT',\n",
              "   'description': 'Received Bitcoin from Luno Promotions: Thanks for signing up to Luno. We hope you enjoy the event',\n",
              "   'details': {'Address': 'Luno Promotions',\n",
              "    'Approximate value': '~EUR\\xa011.04 (8,265 EUR/BTC)',\n",
              "    'Message': 'Thanks for signing up to Luno. We hope you enjoy the event'},\n",
              "   'row_index': 1,\n",
              "   'timestamp': 1593040316757}]}"
            ]
          },
          "metadata": {
            "tags": []
          },
          "execution_count": 49
        }
      ]
    },
    {
      "cell_type": "code",
      "metadata": {
        "id": "So7LaPX6CawK",
        "colab_type": "code",
        "colab": {
          "base_uri": "https://localhost:8080/",
          "height": 34
        },
        "outputId": "5e070485-cf17-4f72-d674-428e96da81d5"
      },
      "source": [
        "c.list_pending_transactions(id=aid)"
      ],
      "execution_count": 50,
      "outputs": [
        {
          "output_type": "execute_result",
          "data": {
            "text/plain": [
              "{'id': '8908565368817758242', 'pending': []}"
            ]
          },
          "metadata": {
            "tags": []
          },
          "execution_count": 50
        }
      ]
    },
    {
      "cell_type": "code",
      "metadata": {
        "id": "sUVbcrpyCqz0",
        "colab_type": "code",
        "colab": {
          "base_uri": "https://localhost:8080/",
          "height": 34
        },
        "outputId": "0ec8e5f5-8539-42c3-fe2b-4ffb12c451ad"
      },
      "source": [
        "c.list_orders()"
      ],
      "execution_count": 51,
      "outputs": [
        {
          "output_type": "execute_result",
          "data": {
            "text/plain": [
              "{'orders': None}"
            ]
          },
          "metadata": {
            "tags": []
          },
          "execution_count": 51
        }
      ]
    },
    {
      "cell_type": "code",
      "metadata": {
        "id": "8weni62SCvpx",
        "colab_type": "code",
        "colab": {
          "base_uri": "https://localhost:8080/",
          "height": 34
        },
        "outputId": "52a19b58-7063-4931-d2eb-2f67132d5cb8"
      },
      "source": [
        "c.list_user_trades(pair='XBTZAR')"
      ],
      "execution_count": 52,
      "outputs": [
        {
          "output_type": "execute_result",
          "data": {
            "text/plain": [
              "{'trades': None}"
            ]
          },
          "metadata": {
            "tags": []
          },
          "execution_count": 52
        }
      ]
    },
    {
      "cell_type": "code",
      "metadata": {
        "id": "7di9Uw3_CyIz",
        "colab_type": "code",
        "colab": {
          "base_uri": "https://localhost:8080/",
          "height": 34
        },
        "outputId": "21b79e35-de29-4bbb-8c69-7128d9b48216"
      },
      "source": [
        "c.get_fee_info(pair='XBTZAR')"
      ],
      "execution_count": 53,
      "outputs": [
        {
          "output_type": "execute_result",
          "data": {
            "text/plain": [
              "{'maker_fee': '0.00', 'taker_fee': '0.01', 'thirty_day_volume': '0.00'}"
            ]
          },
          "metadata": {
            "tags": []
          },
          "execution_count": 53
        }
      ]
    },
    {
      "cell_type": "code",
      "metadata": {
        "id": "a9PMrWHtC5tf",
        "colab_type": "code",
        "colab": {}
      },
      "source": [
        "?c.get_fee_info"
      ],
      "execution_count": 56,
      "outputs": []
    },
    {
      "cell_type": "code",
      "metadata": {
        "id": "jMN19nYADyRI",
        "colab_type": "code",
        "colab": {}
      },
      "source": [
        "c.get_funding_address?"
      ],
      "execution_count": 58,
      "outputs": []
    },
    {
      "cell_type": "code",
      "metadata": {
        "id": "96-ZhXGEDOXS",
        "colab_type": "code",
        "colab": {
          "base_uri": "https://localhost:8080/",
          "height": 34
        },
        "outputId": "39043914-5593-436f-a95a-d648f04235e7"
      },
      "source": [
        "c.list_withdrawals()"
      ],
      "execution_count": 59,
      "outputs": [
        {
          "output_type": "execute_result",
          "data": {
            "text/plain": [
              "{'withdrawals': None}"
            ]
          },
          "metadata": {
            "tags": []
          },
          "execution_count": 59
        }
      ]
    },
    {
      "cell_type": "code",
      "metadata": {
        "id": "MeZiXWtCEAas",
        "colab_type": "code",
        "colab": {}
      },
      "source": [
        ""
      ],
      "execution_count": null,
      "outputs": []
    }
  ]
}